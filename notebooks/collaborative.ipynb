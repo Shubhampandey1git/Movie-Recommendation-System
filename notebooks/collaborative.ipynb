{
 "cells": [
  {
   "cell_type": "code",
   "execution_count": null,
   "id": "afb3c409",
   "metadata": {},
   "outputs": [],
   "source": [
    "# Can also be created using SVD (from scikit-suprise)\n",
    "\n",
    "import pandas as pd\n",
    "import numpy as np\n",
    "from sklearn.metrics.pairwise import cosine_similarity\n",
    "from sklearn.preprocessing import StandardScaler\n",
    "import warnings\n",
    "warnings.filterwarnings('ignore')\n",
    "\n",
    "# Loading the datasets ratings and movies\n",
    "ratings = pd.read_csv('../data/ratings.csv')\n",
    "movies = pd.read_csv('../data/movies.csv')"
   ]
  },
  {
   "cell_type": "code",
   "execution_count": 2,
   "id": "ecc0df8c",
   "metadata": {},
   "outputs": [
    {
     "name": "stdout",
     "output_type": "stream",
     "text": [
      "User-Item Matrix Shape: (6040, 3706)\n"
     ]
    }
   ],
   "source": [
    "# Creating a pivot table for user-item interactions(Matrix)\n",
    "user_item_matrix = ratings.pivot_table(index='userId', columns='movieId', values='rating').fillna(0)\n",
    "print(\"User-Item Matrix Shape:\", user_item_matrix.shape)"
   ]
  },
  {
   "cell_type": "code",
   "execution_count": 4,
   "id": "e4f3ad11",
   "metadata": {},
   "outputs": [
    {
     "name": "stdout",
     "output_type": "stream",
     "text": [
      "User Similarity Matrix Shape: (6040, 6040)\n"
     ]
    }
   ],
   "source": [
    "# Computing the cosine similarity between users\n",
    "user_similarity = cosine_similarity(user_item_matrix) # Compute cosine similarity\n",
    "# Standardizing the user-item matrix\n",
    "user_similarity_df = pd.DataFrame(user_similarity, index=user_item_matrix.index, columns=user_item_matrix.index)\n",
    "print(\"User Similarity Matrix Shape:\", user_similarity_df.shape)"
   ]
  },
  {
   "cell_type": "code",
   "execution_count": 7,
   "id": "ebf6bdbb",
   "metadata": {},
   "outputs": [],
   "source": [
    "# Creating the function to get movie recommendations\n",
    "def get_user_recomendations(user_id, num_recomendations=10):\n",
    "    if user_id not in user_item_matrix.index:\n",
    "        return f\"User ID {user_id} not found in the dataset.\"\n",
    "    \n",
    "    # Get the similarity scores for the specified user with others\n",
    "    sim_scores = user_similarity_df[user_id]\n",
    "\n",
    "    # Multiply each user's rating by their similarity to the target user\n",
    "    weighted_ratings = user_item_matrix.T.dot(sim_scores)\n",
    "\n",
    "    # Normalize by similarity sum to avoid bias towards users with more ratings\n",
    "    sim_sums = np.array([sim_scores[user_item_matrix[col] > 0].sum() for col in user_item_matrix.columns])\n",
    "    scores = weighted_ratings / (sim_sums + 1e-9)  # Adding a small constant to avoid division by zero\n",
    "\n",
    "    # Exclude movies already rated by the user\n",
    "    user_rated = user_item_matrix.loc[user_id]\n",
    "    user_unrated = scores[user_rated == 0]\n",
    "\n",
    "    # Top recommended movies\n",
    "    top_indices = user_unrated.sort_values(ascending=False).head(num_recomendations).index\n",
    "    \n",
    "    return movies[movies['movieId'].isin(top_indices)][['title', 'genres']]"
   ]
  },
  {
   "cell_type": "code",
   "execution_count": 8,
   "id": "00b0a546",
   "metadata": {},
   "outputs": [
    {
     "name": "stdout",
     "output_type": "stream",
     "text": [
      "                                          title                genres\n",
      "52                              Lamerica (1994)                 Drama\n",
      "777          Gate of Heavenly Peace, The (1995)           Documentary\n",
      "977   Schlafes Bruder (Brother of Sleep) (1995)                 Drama\n",
      "1762                    Follow the Bitch (1998)                Comedy\n",
      "3103                    Ulysses (Ulisse) (1954)             Adventure\n",
      "3164                       Smashing Time (1967)                Comedy\n",
      "3313                     Song of Freedom (1936)                 Drama\n",
      "3538                   One Little Indian (1973)  Comedy|Drama|Western\n",
      "3587                               Lured (1947)                 Crime\n",
      "3811                   Bittersweet Motel (2000)           Documentary\n"
     ]
    }
   ],
   "source": [
    "# Example usage\n",
    "user_id = int(input(\"Enter User ID for recommendations: \"))\n",
    "recommendations = get_user_recomendations(user_id)\n",
    "print(recommendations)"
   ]
  }
 ],
 "metadata": {
  "kernelspec": {
   "display_name": "Python 3",
   "language": "python",
   "name": "python3"
  },
  "language_info": {
   "codemirror_mode": {
    "name": "ipython",
    "version": 3
   },
   "file_extension": ".py",
   "mimetype": "text/x-python",
   "name": "python",
   "nbconvert_exporter": "python",
   "pygments_lexer": "ipython3",
   "version": "3.10.9"
  }
 },
 "nbformat": 4,
 "nbformat_minor": 5
}
